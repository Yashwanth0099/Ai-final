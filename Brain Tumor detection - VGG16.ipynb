{
 "cells": [
  {
   "cell_type": "code",
   "execution_count": 1,
   "id": "c87590b7",
   "metadata": {},
   "outputs": [],
   "source": [
    "import numpy as np\n",
    "import matplotlib.pyplot as plt\n",
    "from keras.preprocessing.image import ImageDataGenerator\n",
    "from keras.applications.vgg16 import VGG16, preprocess_input\n",
    "from keras.models import Sequential\n",
    "from keras.layers import Dense, Flatten\n",
    "from keras.optimizers import Adam\n"
   ]
  },
  {
   "cell_type": "code",
   "execution_count": 2,
   "id": "e9186420",
   "metadata": {},
   "outputs": [],
   "source": [
    "import warnings\n",
    "warnings.filterwarnings('ignore')"
   ]
  },
  {
   "cell_type": "code",
   "execution_count": 3,
   "id": "c0bea221",
   "metadata": {},
   "outputs": [
    {
     "name": "stdout",
     "output_type": "stream",
     "text": [
      "Found 4600 images belonging to 2 classes.\n",
      "Found 1872 images belonging to 2 classes.\n"
     ]
    }
   ],
   "source": [
    "train_dir = '/Users/yash/Downloads/BrainTumourdetection/brain tumour dataset/Brain Tumor Training'\n",
    "test_dir = '/Users/yash/Downloads/BrainTumourdetection/brain tumour dataset/Brain Tumour Testing'\n",
    "\n",
    "# Image size and batch size\n",
    "img_size = (224, 224)\n",
    "batch_size = 32\n",
    "\n",
    "# Data augmentation for the training set\n",
    "train_datagen = ImageDataGenerator(\n",
    "    rescale=1./255,\n",
    "    shear_range=0.2,\n",
    "    zoom_range=0.2,\n",
    "    horizontal_flip=True\n",
    ")\n",
    "\n",
    "# Only rescaling for the testing set\n",
    "test_datagen = ImageDataGenerator(rescale=1./255)\n",
    "\n",
    "train_generator = train_datagen.flow_from_directory(\n",
    "    train_dir,\n",
    "    target_size=img_size,\n",
    "    batch_size=batch_size,\n",
    "    class_mode='binary'\n",
    ")\n",
    "\n",
    "test_generator = test_datagen.flow_from_directory(\n",
    "    test_dir,\n",
    "    target_size=img_size,\n",
    "    batch_size=batch_size,\n",
    "    class_mode='binary'\n",
    ")\n"
   ]
  },
  {
   "cell_type": "code",
   "execution_count": 4,
   "id": "afff75fa",
   "metadata": {},
   "outputs": [],
   "source": [
    "# Load pre-trained VGG-16 model without the top (fully connected) layers\n",
    "base_model = VGG16(weights='imagenet', include_top=False, input_shape=(224, 224, 3))\n",
    "\n",
    "# Freeze the convolutional layers\n",
    "for layer in base_model.layers:\n",
    "    layer.trainable = False\n"
   ]
  },
  {
   "cell_type": "code",
   "execution_count": 5,
   "id": "f3449fe3",
   "metadata": {},
   "outputs": [
    {
     "name": "stderr",
     "output_type": "stream",
     "text": [
      "WARNING:absl:At this time, the v2.11+ optimizer `tf.keras.optimizers.Adam` runs slowly on M1/M2 Macs, please use the legacy Keras optimizer instead, located at `tf.keras.optimizers.legacy.Adam`.\n",
      "WARNING:absl:`lr` is deprecated in Keras optimizer, please use `learning_rate` or use the legacy optimizer, e.g.,tf.keras.optimizers.legacy.Adam.\n"
     ]
    }
   ],
   "source": [
    "model = Sequential()\n",
    "\n",
    "# Add VGG-16 base model\n",
    "model.add(base_model)\n",
    "\n",
    "# Flatten the output and add a dense layer\n",
    "model.add(Flatten())\n",
    "model.add(Dense(256, activation='relu'))\n",
    "model.add(Dense(1, activation='sigmoid'))\n",
    "\n",
    "# Compile the model\n",
    "model.compile(optimizer=Adam(lr=0.0001), loss='binary_crossentropy', metrics=['accuracy'])\n"
   ]
  },
  {
   "cell_type": "code",
   "execution_count": 6,
   "id": "395b1c20",
   "metadata": {
    "scrolled": true
   },
   "outputs": [
    {
     "name": "stdout",
     "output_type": "stream",
     "text": [
      "Epoch 1/10\n",
      "143/143 [==============================] - 818s 6s/step - loss: 0.5020 - accuracy: 0.8065 - val_loss: 0.1767 - val_accuracy: 0.9251\n",
      "Epoch 2/10\n",
      "143/143 [==============================] - 878s 6s/step - loss: 0.1746 - accuracy: 0.9332 - val_loss: 0.0938 - val_accuracy: 0.9666\n",
      "Epoch 3/10\n",
      "143/143 [==============================] - 943s 7s/step - loss: 0.1272 - accuracy: 0.9518 - val_loss: 0.1373 - val_accuracy: 0.9418\n",
      "Epoch 4/10\n",
      "143/143 [==============================] - 1037s 7s/step - loss: 0.1151 - accuracy: 0.9523 - val_loss: 0.0580 - val_accuracy: 0.9833\n",
      "Epoch 5/10\n",
      "143/143 [==============================] - 975s 7s/step - loss: 0.0887 - accuracy: 0.9665 - val_loss: 0.0515 - val_accuracy: 0.9817\n",
      "Epoch 6/10\n",
      "143/143 [==============================] - 966s 7s/step - loss: 0.0885 - accuracy: 0.9661 - val_loss: 0.0398 - val_accuracy: 0.9871\n",
      "Epoch 7/10\n",
      "143/143 [==============================] - 977s 7s/step - loss: 0.0718 - accuracy: 0.9737 - val_loss: 0.0568 - val_accuracy: 0.9779\n",
      "Epoch 8/10\n",
      "143/143 [==============================] - 995s 7s/step - loss: 0.0676 - accuracy: 0.9742 - val_loss: 0.0289 - val_accuracy: 0.9925\n",
      "Epoch 9/10\n",
      "143/143 [==============================] - 1057s 7s/step - loss: 0.0472 - accuracy: 0.9836 - val_loss: 0.0336 - val_accuracy: 0.9887\n",
      "Epoch 10/10\n",
      "143/143 [==============================] - 1065s 7s/step - loss: 0.0403 - accuracy: 0.9862 - val_loss: 0.0252 - val_accuracy: 0.9914\n"
     ]
    }
   ],
   "source": [
    "epochs = 10\n",
    "\n",
    "history = model.fit(\n",
    "    train_generator,\n",
    "    steps_per_epoch=train_generator.samples // batch_size,\n",
    "    epochs=epochs,\n",
    "    validation_data=test_generator,\n",
    "    validation_steps=test_generator.samples // batch_size\n",
    ")\n"
   ]
  },
  {
   "cell_type": "code",
   "execution_count": 7,
   "id": "2d4db330",
   "metadata": {},
   "outputs": [
    {
     "name": "stdout",
     "output_type": "stream",
     "text": [
      "59/59 [==============================] - 315s 5s/step\n",
      "Accuracy: 0.5118\n",
      "Precision: 0.5520\n",
      "Recall (Sensitivity): 0.5520\n",
      "Confusion Matrix:\n",
      "[[395 457]\n",
      " [457 563]]\n"
     ]
    }
   ],
   "source": [
    "from sklearn.metrics import accuracy_score, precision_score, recall_score, confusion_matrix\n",
    "y_true = test_generator.classes\n",
    "y_pred_raw = model.predict(test_generator)\n",
    "y_pred = (y_pred_raw > 0.5).astype(int)  # Convert probabilities to binary predictions\n",
    "\n",
    "# Calculate accuracy, precision, recall, and confusion matrix\n",
    "accuracy = accuracy_score(y_true, y_pred)\n",
    "precision = precision_score(y_true, y_pred)\n",
    "recall = recall_score(y_true, y_pred)\n",
    "conf_matrix = confusion_matrix(y_true, y_pred)\n",
    "\n",
    "print(f'Accuracy: {accuracy:.4f}')\n",
    "print(f'Precision: {precision:.4f}')\n",
    "print(f'Recall (Sensitivity): {recall:.4f}')\n",
    "print('Confusion Matrix:')\n",
    "print(conf_matrix)"
   ]
  },
  {
   "cell_type": "code",
   "execution_count": 8,
   "id": "fd99384f",
   "metadata": {},
   "outputs": [],
   "source": [
    "import tensorflow as tf\n",
    "from keras.models import load_model\n",
    "\n",
    "model.save('Brain Tumour.h5')"
   ]
  },
  {
   "cell_type": "code",
   "execution_count": 9,
   "id": "3e63d1b9",
   "metadata": {},
   "outputs": [],
   "source": [
    "from keras.models import load_model"
   ]
  },
  {
   "cell_type": "code",
   "execution_count": 10,
   "id": "a64bc601",
   "metadata": {},
   "outputs": [],
   "source": [
    "from keras import utils"
   ]
  },
  {
   "cell_type": "code",
   "execution_count": 11,
   "id": "15e61e4c",
   "metadata": {},
   "outputs": [],
   "source": [
    "from keras.applications.vgg16 import preprocess_input\n"
   ]
  },
  {
   "cell_type": "code",
   "execution_count": 12,
   "id": "489c3943",
   "metadata": {},
   "outputs": [],
   "source": [
    "import numpy as np"
   ]
  },
  {
   "cell_type": "code",
   "execution_count": 13,
   "id": "5e376297",
   "metadata": {},
   "outputs": [
    {
     "name": "stderr",
     "output_type": "stream",
     "text": [
      "WARNING:absl:At this time, the v2.11+ optimizer `tf.keras.optimizers.Adam` runs slowly on M1/M2 Macs, please use the legacy Keras optimizer instead, located at `tf.keras.optimizers.legacy.Adam`.\n"
     ]
    }
   ],
   "source": [
    "model=load_model('Brain Tumour.h5')"
   ]
  },
  {
   "cell_type": "code",
   "execution_count": 14,
   "id": "13b9d399",
   "metadata": {},
   "outputs": [],
   "source": [
    "img_path = '/Users/yash/Downloads/project /Dataset/Testing/no_tumor/image(104).jpg'  # Change this to the path of your brain image\n",
    "img = utils.load_img(img_path, target_size=(224, 224))\n",
    "img_array = utils.img_to_array(img)\n",
    "img_array = np.expand_dims(img_array, axis=0)\n",
    "img_array = preprocess_input(img_array)\n"
   ]
  },
  {
   "cell_type": "code",
   "execution_count": 15,
   "id": "063259ad",
   "metadata": {},
   "outputs": [
    {
     "name": "stdout",
     "output_type": "stream",
     "text": [
      "1/1 [==============================] - 0s 179ms/step\n"
     ]
    },
    {
     "data": {
      "text/plain": [
       "array([[0.]], dtype=float32)"
      ]
     },
     "execution_count": 15,
     "metadata": {},
     "output_type": "execute_result"
    }
   ],
   "source": [
    "prediction = model.predict(img_array)\n",
    "prediction"
   ]
  },
  {
   "cell_type": "code",
   "execution_count": 16,
   "id": "980c8cdf",
   "metadata": {},
   "outputs": [
    {
     "name": "stdout",
     "output_type": "stream",
     "text": [
      "Result is Normal\n"
     ]
    }
   ],
   "source": [
    "if prediction[0][0] >= 0.5:\n",
    "         print(\"Tumour detected\")\n",
    "else:\n",
    "        print(\"Result is Normal\")"
   ]
  },
  {
   "cell_type": "code",
   "execution_count": null,
   "id": "193202ce",
   "metadata": {},
   "outputs": [],
   "source": []
  }
 ],
 "metadata": {
  "kernelspec": {
   "display_name": "Python 3 (ipykernel)",
   "language": "python",
   "name": "python3"
  },
  "language_info": {
   "codemirror_mode": {
    "name": "ipython",
    "version": 3
   },
   "file_extension": ".py",
   "mimetype": "text/x-python",
   "name": "python",
   "nbconvert_exporter": "python",
   "pygments_lexer": "ipython3",
   "version": "3.11.5"
  }
 },
 "nbformat": 4,
 "nbformat_minor": 5
}
